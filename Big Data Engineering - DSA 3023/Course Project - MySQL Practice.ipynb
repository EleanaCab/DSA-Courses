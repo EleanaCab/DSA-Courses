{
 "cells": [
  {
   "cell_type": "markdown",
   "id": "df472526",
   "metadata": {},
   "source": [
    "Project 1"
   ]
  },
  {
   "cell_type": "code",
   "execution_count": null,
   "id": "774a06c3",
   "metadata": {
    "scrolled": true
   },
   "outputs": [],
   "source": [
    "import pandas as pd\n",
    "\n",
    "#Getting data into pandas dataframe\n",
    "df = pd.read_table('iris_data.txt', delimiter=',', header=None, names=[\"sepalLength\", \"sepalWidth\", \"petalLength\", \"petalWidth\", \"class\"])\n"
   ]
  },
  {
   "cell_type": "code",
   "execution_count": null,
   "id": "2675e7d4",
   "metadata": {},
   "outputs": [],
   "source": [
    "import mysql.connector\n",
    "from getpass import getpass\n",
    "\n",
    "#Create database eleana_cabello_iris\n",
    "db = mysql.connector.connect(\n",
    "        host=\"localhost\",\n",
    "        user=\"root\",\n",
    "        password=getpass(\"Enter password: \"),\n",
    ")\n",
    "\n",
    "cursor = db.cursor()\n",
    "cursor.execute(\"CREATE DATABASE eleana_cabello_iris\")"
   ]
  },
  {
   "cell_type": "code",
   "execution_count": null,
   "id": "0dfe6bf1",
   "metadata": {},
   "outputs": [],
   "source": [
    "#Create table for the data named iris\n",
    "db = mysql.connector.connect(\n",
    "        host=\"localhost\",\n",
    "        user=\"root\",\n",
    "        password=getpass(\"Enter password: \"),\n",
    "        database = \"eleana_cabello_iris\"\n",
    ")\n",
    "\n",
    "cursor = db.cursor()\n",
    "cursor.execute(\"CREATE TABLE iris(sepalLength DECIMAL(2,1), sepalWidth DECIMAL(2,1), petalLength DECIMAL(2,1), petalWidth DECIMAL(2,1), class varchar(255))\")"
   ]
  },
  {
   "cell_type": "code",
   "execution_count": null,
   "id": "76a128c1",
   "metadata": {},
   "outputs": [],
   "source": [
    "#Insert data into table from dataframe by iterating through each row\n",
    "mydb = mysql.connector.connect(\n",
    "  host=\"localhost\",\n",
    "  user=\"root\",\n",
    "  password=getpass(\"Enter password: \"),\n",
    "  database=\"eleana_cabello_iris\"\n",
    ")\n",
    "\n",
    "cursor = db.cursor()\n",
    "\n",
    "for index, row in df.iterrows():\n",
    "    command = \"INSERT INTO iris (SepalLength, SepalWidth, PetalLength, PetalWidth, Class) VALUES (%s, %s, %s, %s, %s)\"\n",
    "    values = (row['sepalLength'], row['sepalWidth'], row['petalLength'], row['petalWidth'], row['class'])\n",
    "    cursor.execute(command, values)\n",
    "    db.commit()\n"
   ]
  },
  {
   "cell_type": "code",
   "execution_count": null,
   "id": "d39868bb",
   "metadata": {},
   "outputs": [],
   "source": [
    "#View table to confirm creation\n",
    "db = mysql.connector.connect(\n",
    "  host=\"localhost\",\n",
    "  user=\"root\",\n",
    "  password=getpass(\"Enter password: \"),\n",
    "  database=\"eleana_cabello_iris\"\n",
    ")\n",
    "\n",
    "cursor = db.cursor()\n",
    "cursor.execute(\"SELECT * FROM iris\")\n",
    "\n",
    "for i in cursor:\n",
    "    print(i)"
   ]
  },
  {
   "cell_type": "code",
   "execution_count": null,
   "id": "43427efd",
   "metadata": {},
   "outputs": [],
   "source": [
    "#Increasing the sepal width of all Virginica by 1\n",
    "db = mysql.connector.connect(\n",
    "  host=\"localhost\",\n",
    "  user=\"root\",\n",
    "  password=getpass(\"Enter password: \"),\n",
    "  database=\"eleana_cabello_iris\"\n",
    ")\n",
    "\n",
    "cursor = db.cursor()\n",
    "cursor.execute(\"UPDATE iris SET SepalWidth = (1 + SepalWidth) WHERE Class = 'Iris-virginica'\")\n",
    "db.commit()"
   ]
  },
  {
   "cell_type": "code",
   "execution_count": null,
   "id": "47eff0d2",
   "metadata": {},
   "outputs": [],
   "source": [
    "#View table to confirm increasing of sepal width by 1\n",
    "db = mysql.connector.connect(\n",
    "  host=\"localhost\",\n",
    "  user=\"root\",\n",
    "  password=getpass(\"Enter password: \"),\n",
    "  database=\"eleana_cabello_iris\"\n",
    ")\n",
    "\n",
    "cursor = db.cursor()\n",
    "cursor.execute(\"SELECT * FROM iris\")\n",
    "\n",
    "for i in cursor:\n",
    "    print(i)"
   ]
  },
  {
   "cell_type": "markdown",
   "id": "f9775c91",
   "metadata": {},
   "source": [
    "Project 4"
   ]
  },
  {
   "cell_type": "code",
   "execution_count": 2,
   "id": "1ff4dff3",
   "metadata": {},
   "outputs": [],
   "source": [
    "import mysql.connector\n",
    "import pandas as pd\n",
    "from getpass import getpass\n",
    "\n",
    "db = mysql.connector.connect(\n",
    "  host=\"localhost\",\n",
    "  user=\"root\",\n",
    "  password=getpass(\"Enter password: \"),\n",
    "  database=\"eleana_cabello_iris\"\n",
    ")\n",
    "\n",
    "#Reading iris database from Mysql into a pandas dataframe\n",
    "query = \"Select * from iris\"\n",
    "iris_df = pd.read_sql(query,db)\n",
    "db.close() "
   ]
  },
  {
   "cell_type": "code",
   "execution_count": 3,
   "id": "5e9db4f2",
   "metadata": {},
   "outputs": [
    {
     "name": "stdout",
     "output_type": "stream",
     "text": [
      "X shape: (150, 4) | y shape: (150,) \n"
     ]
    }
   ],
   "source": [
    "#Seperating features from classes \n",
    "X = iris_df.drop(['class'], axis=1)\n",
    "y = iris_df['class']\n",
    "print(f'X shape: {X.shape} | y shape: {y.shape} ')"
   ]
  },
  {
   "cell_type": "code",
   "execution_count": 4,
   "id": "e8970dfd",
   "metadata": {},
   "outputs": [],
   "source": [
    "from sklearn import set_config\n",
    "from sklearn.model_selection import train_test_split\n",
    "\n",
    "#Splitting iris data into testing and training\n",
    "X_train, X_test, y_train, y_test = train_test_split(X, y)"
   ]
  },
  {
   "cell_type": "markdown",
   "id": "2a337c41",
   "metadata": {},
   "source": [
    "Classification Model #1 - LinearSVC"
   ]
  },
  {
   "cell_type": "code",
   "execution_count": 5,
   "id": "fe652316",
   "metadata": {},
   "outputs": [
    {
     "name": "stdout",
     "output_type": "stream",
     "text": [
      "                 precision    recall  f1-score   support\n",
      "\n",
      "    Iris-setosa       1.00      1.00      1.00        11\n",
      "Iris-versicolor       0.92      0.92      0.92        13\n",
      " Iris-virginica       0.93      0.93      0.93        14\n",
      "\n",
      "       accuracy                           0.95        38\n",
      "      macro avg       0.95      0.95      0.95        38\n",
      "   weighted avg       0.95      0.95      0.95        38\n",
      "\n"
     ]
    },
    {
     "name": "stderr",
     "output_type": "stream",
     "text": [
      "C:\\Users\\cabel\\AppData\\Local\\Programs\\Python\\Python39\\lib\\site-packages\\sklearn\\svm\\_base.py:985: ConvergenceWarning: Liblinear failed to converge, increase the number of iterations.\n",
      "  warnings.warn(\"Liblinear failed to converge, increase \"\n"
     ]
    }
   ],
   "source": [
    "from sklearn.feature_selection import SelectKBest, f_classif\n",
    "from sklearn.pipeline import make_pipeline\n",
    "from sklearn.svm import LinearSVC\n",
    "from sklearn.metrics import classification_report\n",
    "\n",
    "#Defining the score function to use for feature selection \n",
    "anova_filter = SelectKBest(f_classif, k=3)\n",
    "\n",
    "#Defining the classification model that will be used \n",
    "clf = LinearSVC()\n",
    "\n",
    "#Creating pipline of feature selection and model\n",
    "anova_svm = make_pipeline(anova_filter, clf)\n",
    "\n",
    "#Training model with training data\n",
    "anova_svm.fit(X_train, y_train)\n",
    "\n",
    "#Testing model with testing data \n",
    "y_pred = anova_svm.predict(X_test, )\n",
    "\n",
    "#Classification results\n",
    "print(classification_report(y_test, y_pred))"
   ]
  },
  {
   "cell_type": "markdown",
   "id": "76686b26",
   "metadata": {},
   "source": [
    "Classification Model #2 - Decision Tree"
   ]
  },
  {
   "cell_type": "code",
   "execution_count": 6,
   "id": "8262f487",
   "metadata": {},
   "outputs": [
    {
     "name": "stdout",
     "output_type": "stream",
     "text": [
      "                 precision    recall  f1-score   support\n",
      "\n",
      "    Iris-setosa       1.00      1.00      1.00        11\n",
      "Iris-versicolor       1.00      0.85      0.92        13\n",
      " Iris-virginica       0.88      1.00      0.93        14\n",
      "\n",
      "       accuracy                           0.95        38\n",
      "      macro avg       0.96      0.95      0.95        38\n",
      "   weighted avg       0.95      0.95      0.95        38\n",
      "\n"
     ]
    }
   ],
   "source": [
    "from sklearn import tree\n",
    "\n",
    "#Defining the score function to use for feature selection \n",
    "anova_filter = SelectKBest(f_classif, k=3)\n",
    "\n",
    "#Defining the classification model that will be used \n",
    "clf = tree.DecisionTreeClassifier()\n",
    "\n",
    "#Creating pipline of feature selection and model\n",
    "tree_class = make_pipeline(anova_filter, clf)\n",
    "\n",
    "#Training model with training data\n",
    "tree_class.fit(X_train, y_train)\n",
    "\n",
    "#Testing model with testing data \n",
    "y_pred = tree_class.predict(X_test)\n",
    "\n",
    "#Classification results\n",
    "print(classification_report(y_test, y_pred))"
   ]
  },
  {
   "cell_type": "markdown",
   "id": "908aad3b",
   "metadata": {},
   "source": [
    "Classification Model #3 - KNeighbors"
   ]
  },
  {
   "cell_type": "code",
   "execution_count": 8,
   "id": "6e2cc967",
   "metadata": {},
   "outputs": [
    {
     "name": "stdout",
     "output_type": "stream",
     "text": [
      "                 precision    recall  f1-score   support\n",
      "\n",
      "    Iris-setosa       1.00      1.00      1.00        11\n",
      "Iris-versicolor       1.00      1.00      1.00        13\n",
      " Iris-virginica       1.00      1.00      1.00        14\n",
      "\n",
      "       accuracy                           1.00        38\n",
      "      macro avg       1.00      1.00      1.00        38\n",
      "   weighted avg       1.00      1.00      1.00        38\n",
      "\n"
     ]
    }
   ],
   "source": [
    "from sklearn.neighbors import KNeighborsClassifier\n",
    "\n",
    "#Defining the score function to use for feature selection \n",
    "anova_filter = SelectKBest(f_classif, k=3)\n",
    "\n",
    "#Defining the classification model that will be used \n",
    "clf = KNeighborsClassifier(n_neighbors=10)\n",
    "\n",
    "#Creating pipline of feature selection and model\n",
    "knn = make_pipeline(anova_filter, clf)\n",
    "\n",
    "#Training model with training data\n",
    "knn.fit(X_train, y_train)\n",
    "\n",
    "#Testing model with testing data \n",
    "y_pred = knn.predict(X_test)\n",
    "\n",
    "#Classification results\n",
    "print(classification_report(y_test, y_pred))"
   ]
  }
 ],
 "metadata": {
  "kernelspec": {
   "display_name": "Python 3",
   "language": "python",
   "name": "python3"
  },
  "language_info": {
   "codemirror_mode": {
    "name": "ipython",
    "version": 3
   },
   "file_extension": ".py",
   "mimetype": "text/x-python",
   "name": "python",
   "nbconvert_exporter": "python",
   "pygments_lexer": "ipython3",
   "version": "3.9.0"
  }
 },
 "nbformat": 4,
 "nbformat_minor": 5
}
